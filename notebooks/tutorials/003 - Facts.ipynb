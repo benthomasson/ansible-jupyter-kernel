{
 "cells": [
  {
   "cell_type": "markdown",
   "metadata": {},
   "source": [
    "# Ansible Facts\n",
    "\n",
    "* Facts are values gathered during the execution of Ansible operations"
   ]
  },
  {
   "cell_type": "code",
   "execution_count": 2,
   "metadata": {},
   "outputs": [
    {
     "name": "stdout",
     "output_type": "stream",
     "text": [
      "TASK [set_fact] ****************************************************************\n",
      "ok: [localhost] => {\n",
      "    \"ansible_facts\": {\n",
      "        \"fact2\": 1234, \n",
      "        \"fact_name\": \"fact value\"\n",
      "    }\n",
      "}\n"
     ]
    }
   ],
   "source": [
    "#task\n",
    "set_fact:\n",
    "    fact_name: fact value\n",
    "    fact2: 1234"
   ]
  },
  {
   "cell_type": "code",
   "execution_count": 3,
   "metadata": {},
   "outputs": [
    {
     "name": "stdout",
     "output_type": "stream",
     "text": [
      "TASK [debug] *******************************************************************\n",
      "ok: [localhost] => {\n",
      "    \"fact2\": 1234\n",
      "}\n"
     ]
    }
   ],
   "source": [
    "debug:\n",
    "    var: fact2"
   ]
  },
  {
   "cell_type": "code",
   "execution_count": 4,
   "metadata": {},
   "outputs": [
    {
     "name": "stdout",
     "output_type": "stream",
     "text": [
      "TASK [debug] *******************************************************************\n",
      "ok: [localhost] => {\n",
      "    \"fact_name\": \"fact value\"\n",
      "}\n"
     ]
    }
   ],
   "source": [
    "debug:\n",
    "    var: fact_name"
   ]
  },
  {
   "cell_type": "code",
   "execution_count": 6,
   "metadata": {},
   "outputs": [
    {
     "name": "stdout",
     "output_type": "stream",
     "text": [
      "TASK [debug] *******************************************************************\n",
      "ok: [localhost] => {\n",
      "    \"msg\": \"Facts can be used like variables in template strings 'fact value'\"\n",
      "}\n"
     ]
    }
   ],
   "source": [
    "debug:\n",
    "    msg: \"Facts can be used like variables in template strings '{{fact_name}}'\""
   ]
  },
  {
   "cell_type": "code",
   "execution_count": null,
   "metadata": {},
   "outputs": [],
   "source": []
  }
 ],
 "metadata": {
  "kernelspec": {
   "display_name": "Ansible",
   "language": "ansible",
   "name": "ansible"
  },
  "language_info": {
   "codemirror_mode": "yaml",
   "file_extension": ".yml",
   "mimetype": "text/yaml",
   "name": "ansible"
  }
 },
 "nbformat": 4,
 "nbformat_minor": 2
}
