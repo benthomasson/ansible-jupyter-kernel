{
 "cells": [
  {
   "cell_type": "markdown",
   "metadata": {},
   "source": [
    "# Ansible Tasks\n",
    "\n",
    "* Ansible defines operations as tasks with arguments\n",
    "* Some operations retrieve data\n",
    "* Some make changes to the device\n",
    "* Some operations display information to the screen\n",
    "* Some operations set facts for use in other tasks"
   ]
  },
  {
   "cell_type": "code",
   "execution_count": 2,
   "metadata": {},
   "outputs": [
    {
     "name": "stdout",
     "output_type": "stream",
     "text": [
      "TASK [debug] *******************************************************************\n",
      "ok: [localhost] => {\n",
      "    \"msg\": \"Display a template string for debugging the execution of other tasks\"\n",
      "}\n"
     ]
    }
   ],
   "source": [
    "#task\n",
    "debug:\n",
    "    msg: \"Display a template string for debugging the execution of other tasks\""
   ]
  },
  {
   "cell_type": "code",
   "execution_count": 1,
   "metadata": {},
   "outputs": [
    {
     "name": "stdout",
     "output_type": "stream",
     "text": [
      "TASK [shell] *******************************************************************\n",
      "changed: [localhost] => {\n",
      "    \"cmd\": \"whoami\", \n",
      "    \"delta\": \"0:00:00.009730\", \n",
      "    \"end\": \"2018-07-12 12:47:16.160126\", \n",
      "    \"rc\": 0, \n",
      "    \"start\": \"2018-07-12 12:47:16.150396\", \n",
      "    \"stderr\": \"\", \n",
      "    \"stderr_lines\": [], \n",
      "    \"stdout\": \"[see below]\", \n",
      "    \"stdout_lines\": \"[removed for clarity]\"\n",
      "}\n",
      "\n",
      "[localhost] stdout:\n",
      "bthomass\n"
     ]
    }
   ],
   "source": [
    "#task\n",
    "shell: whoami"
   ]
  },
  {
   "cell_type": "code",
   "execution_count": null,
   "metadata": {},
   "outputs": [],
   "source": [
    "#task\n",
    "debug:\n",
    "  "
   ]
  }
 ],
 "metadata": {
  "kernelspec": {
   "display_name": "Ansible",
   "language": "ansible",
   "name": "ansible"
  },
  "language_info": {
   "codemirror_mode": "yaml",
   "file_extension": ".yml",
   "mimetype": "text/yaml",
   "name": "ansible"
  }
 },
 "nbformat": 4,
 "nbformat_minor": 2
}
