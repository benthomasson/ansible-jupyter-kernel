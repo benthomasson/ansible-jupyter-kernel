{
 "cells": [
  {
   "cell_type": "markdown",
   "metadata": {},
   "source": [
    "# Loops\n",
    "\n",
    "* with_items - loops over a list and sets the variable `item` to the each value in the list\n",
    "* with_nested - loops over a list of lists and sets `item` to each combination of the values in the lists\n"
   ]
  },
  {
   "cell_type": "code",
   "execution_count": 3,
   "metadata": {},
   "outputs": [
    {
     "name": "stdout",
     "output_type": "stream",
     "text": [
      "TASK [debug] *******************************************************************\n",
      "ok: [localhost] => {\n",
      "    \"msg\": \"All items completed\", \n",
      "    \"results\": [\n",
      "        {\n",
      "            \"failed\": false, \n",
      "            \"item\": \"a\", \n",
      "            \"msg\": \"a\"\n",
      "        }, \n",
      "        {\n",
      "            \"failed\": false, \n",
      "            \"item\": \"b\", \n",
      "            \"msg\": \"b\"\n",
      "        }, \n",
      "        {\n",
      "            \"failed\": false, \n",
      "            \"item\": \"c\", \n",
      "            \"msg\": \"c\"\n",
      "        }\n",
      "    ]\n",
      "}\n"
     ]
    }
   ],
   "source": [
    "debug:\n",
    "    msg: \"{{item}}\"\n",
    "with_items:\n",
    "    - a\n",
    "    - b\n",
    "    - c"
   ]
  },
  {
   "cell_type": "code",
   "execution_count": 4,
   "metadata": {},
   "outputs": [
    {
     "name": "stdout",
     "output_type": "stream",
     "text": [
      "TASK [debug] *******************************************************************\n",
      "ok: [localhost] => {\n",
      "    \"msg\": \"All items completed\", \n",
      "    \"results\": [\n",
      "        {\n",
      "            \"failed\": false, \n",
      "            \"item\": [\n",
      "                \"a\", \n",
      "                \"c\"\n",
      "            ], \n",
      "            \"msg\": [\n",
      "                \"a\", \n",
      "                \"c\"\n",
      "            ]\n",
      "        }, \n",
      "        {\n",
      "            \"failed\": false, \n",
      "            \"item\": [\n",
      "                \"a\", \n",
      "                \"d\"\n",
      "            ], \n",
      "            \"msg\": [\n",
      "                \"a\", \n",
      "                \"d\"\n",
      "            ]\n",
      "        }, \n",
      "        {\n",
      "            \"failed\": false, \n",
      "            \"item\": [\n",
      "                \"b\", \n",
      "                \"c\"\n",
      "            ], \n",
      "            \"msg\": [\n",
      "                \"b\", \n",
      "                \"c\"\n",
      "            ]\n",
      "        }, \n",
      "        {\n",
      "            \"failed\": false, \n",
      "            \"item\": [\n",
      "                \"b\", \n",
      "                \"d\"\n",
      "            ], \n",
      "            \"msg\": [\n",
      "                \"b\", \n",
      "                \"d\"\n",
      "            ]\n",
      "        }\n",
      "    ]\n",
      "}\n"
     ]
    }
   ],
   "source": [
    "debug:\n",
    "    msg: \"{{item}}\"\n",
    "with_nested:\n",
    "    - [a, b]\n",
    "    - [c, d]"
   ]
  },
  {
   "cell_type": "code",
   "execution_count": null,
   "metadata": {},
   "outputs": [],
   "source": []
  }
 ],
 "metadata": {
  "kernelspec": {
   "display_name": "Ansible",
   "language": "ansible",
   "name": "ansible"
  },
  "language_info": {
   "codemirror_mode": "yaml",
   "file_extension": ".yml",
   "mimetype": "text/yaml",
   "name": "ansible"
  }
 },
 "nbformat": 4,
 "nbformat_minor": 2
}
