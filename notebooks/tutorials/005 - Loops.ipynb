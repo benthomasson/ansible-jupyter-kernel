{
 "cells": [
  {
   "cell_type": "code",
   "execution_count": 3,
   "metadata": {},
   "outputs": [
    {
     "name": "stdout",
     "output_type": "stream",
     "text": [
      "TASK [debug] *******************************************************************\n",
      "ok: [localhost] => {\n",
      "    \"msg\": \"All items completed\", \n",
      "    \"results\": [\n",
      "        {\n",
      "            \"failed\": false, \n",
      "            \"item\": \"a\", \n",
      "            \"msg\": \"a\"\n",
      "        }, \n",
      "        {\n",
      "            \"failed\": false, \n",
      "            \"item\": \"b\", \n",
      "            \"msg\": \"b\"\n",
      "        }, \n",
      "        {\n",
      "            \"failed\": false, \n",
      "            \"item\": \"c\", \n",
      "            \"msg\": \"c\"\n",
      "        }\n",
      "    ]\n",
      "}\n"
     ]
    }
   ],
   "source": [
    "debug:\n",
    "    msg: \"{{item}}\"\n",
    "with_items:\n",
    "    - a\n",
    "    - b\n",
    "    - c"
   ]
  },
  {
   "cell_type": "code",
   "execution_count": 4,
   "metadata": {},
   "outputs": [
    {
     "name": "stdout",
     "output_type": "stream",
     "text": [
      "TASK [debug] *******************************************************************\n",
      "ok: [localhost] => {\n",
      "    \"msg\": \"All items completed\", \n",
      "    \"results\": [\n",
      "        {\n",
      "            \"failed\": false, \n",
      "            \"item\": [\n",
      "                \"a\", \n",
      "                \"c\"\n",
      "            ], \n",
      "            \"msg\": [\n",
      "                \"a\", \n",
      "                \"c\"\n",
      "            ]\n",
      "        }, \n",
      "        {\n",
      "            \"failed\": false, \n",
      "            \"item\": [\n",
      "                \"a\", \n",
      "                \"d\"\n",
      "            ], \n",
      "            \"msg\": [\n",
      "                \"a\", \n",
      "                \"d\"\n",
      "            ]\n",
      "        }, \n",
      "        {\n",
      "            \"failed\": false, \n",
      "            \"item\": [\n",
      "                \"b\", \n",
      "                \"c\"\n",
      "            ], \n",
      "            \"msg\": [\n",
      "                \"b\", \n",
      "                \"c\"\n",
      "            ]\n",
      "        }, \n",
      "        {\n",
      "            \"failed\": false, \n",
      "            \"item\": [\n",
      "                \"b\", \n",
      "                \"d\"\n",
      "            ], \n",
      "            \"msg\": [\n",
      "                \"b\", \n",
      "                \"d\"\n",
      "            ]\n",
      "        }\n",
      "    ]\n",
      "}\n"
     ]
    }
   ],
   "source": [
    "debug:\n",
    "    msg: \"{{item}}\"\n",
    "with_nested:\n",
    "    - [a, b]\n",
    "    - [c, d]"
   ]
  },
  {
   "cell_type": "code",
   "execution_count": 5,
   "metadata": {},
   "outputs": [
    {
     "name": "stdout",
     "output_type": "stream",
     "text": [
      "TASK [debug] *******************************************************************\n",
      "ok: [localhost] => {\n",
      "    \"msg\": \"All items completed\", \n",
      "    \"results\": [\n",
      "        {\n",
      "            \"failed\": false, \n",
      "            \"item\": [\n",
      "                \"student1\", \n",
      "                \"host\"\n",
      "            ], \n",
      "            \"msg\": [\n",
      "                \"student1\", \n",
      "                \"host\"\n",
      "            ]\n",
      "        }, \n",
      "        {\n",
      "            \"failed\": false, \n",
      "            \"item\": [\n",
      "                \"student1\", \n",
      "                \"host\"\n",
      "            ], \n",
      "            \"msg\": [\n",
      "                \"student1\", \n",
      "                \"host\"\n",
      "            ]\n",
      "        }, \n",
      "        {\n",
      "            \"failed\": false, \n",
      "            \"item\": [\n",
      "                \"student2\", \n",
      "                \"host\"\n",
      "            ], \n",
      "            \"msg\": [\n",
      "                \"student2\", \n",
      "                \"host\"\n",
      "            ]\n",
      "        }, \n",
      "        {\n",
      "            \"failed\": false, \n",
      "            \"item\": [\n",
      "                \"student2\", \n",
      "                \"host\"\n",
      "            ], \n",
      "            \"msg\": [\n",
      "                \"student2\", \n",
      "                \"host\"\n",
      "            ]\n",
      "        }\n",
      "    ]\n",
      "}\n"
     ]
    }
   ],
   "source": [
    "debug:\n",
    "    msg: \"{{item}}\"\n",
    "with_nested:\n",
    "    - [student1, student2]\n",
    "    - [host, host]"
   ]
  },
  {
   "cell_type": "code",
   "execution_count": 6,
   "metadata": {},
   "outputs": [
    {
     "name": "stdout",
     "output_type": "stream",
     "text": [
      "TASK [debug] *******************************************************************\n",
      "ok: [localhost] => {\n",
      "    \"msg\": \"All items completed\", \n",
      "    \"results\": [\n",
      "        {\n",
      "            \"failed\": false, \n",
      "            \"item\": [\n",
      "                \"student1\", \n",
      "                \"host1\"\n",
      "            ], \n",
      "            \"msg\": \"student1-host1\"\n",
      "        }, \n",
      "        {\n",
      "            \"failed\": false, \n",
      "            \"item\": [\n",
      "                \"student1\", \n",
      "                \"host2\"\n",
      "            ], \n",
      "            \"msg\": \"student1-host2\"\n",
      "        }, \n",
      "        {\n",
      "            \"failed\": false, \n",
      "            \"item\": [\n",
      "                \"student2\", \n",
      "                \"host1\"\n",
      "            ], \n",
      "            \"msg\": \"student2-host1\"\n",
      "        }, \n",
      "        {\n",
      "            \"failed\": false, \n",
      "            \"item\": [\n",
      "                \"student2\", \n",
      "                \"host2\"\n",
      "            ], \n",
      "            \"msg\": \"student2-host2\"\n",
      "        }\n",
      "    ]\n",
      "}\n"
     ]
    }
   ],
   "source": [
    "debug:\n",
    "    msg: \"{{item[0]}}-{{item[1]}}\"\n",
    "with_nested:\n",
    "    - [student1, student2]\n",
    "    - [host1, host2]"
   ]
  },
  {
   "cell_type": "code",
   "execution_count": 7,
   "metadata": {},
   "outputs": [
    {
     "name": "stdout",
     "output_type": "stream",
     "text": [
      "TASK [set_fact] ****************************************************************\n",
      "ok: [localhost] => {\n",
      "    \"ansible_facts\": {\n",
      "        \"servers\": [\n",
      "            \"rhel1\", \n",
      "            \"rhel2\", \n",
      "            \"rhel3\", \n",
      "            \"rhel4\"\n",
      "        ], \n",
      "        \"students\": [\n",
      "            \"student1\", \n",
      "            \"student2\"\n",
      "        ]\n",
      "    }\n",
      "}\n"
     ]
    }
   ],
   "source": [
    "set_fact:\n",
    "    students: [student1, student2]\n",
    "    servers: [rhel1, rhel2, rhel3, rhel4]"
   ]
  },
  {
   "cell_type": "code",
   "execution_count": 8,
   "metadata": {},
   "outputs": [
    {
     "name": "stdout",
     "output_type": "stream",
     "text": [
      "TASK [debug] *******************************************************************\n",
      "ok: [localhost] => {\n",
      "    \"msg\": \"All items completed\", \n",
      "    \"results\": [\n",
      "        {\n",
      "            \"failed\": false, \n",
      "            \"item\": [\n",
      "                \"student1\", \n",
      "                \"rhel1\", \n",
      "                \"rhel2\"\n",
      "            ], \n",
      "            \"msg\": \"student1-rhel1\"\n",
      "        }, \n",
      "        {\n",
      "            \"failed\": false, \n",
      "            \"item\": [\n",
      "                \"student1\", \n",
      "                \"rhel3\", \n",
      "                \"rhel4\"\n",
      "            ], \n",
      "            \"msg\": \"student1-rhel3\"\n",
      "        }, \n",
      "        {\n",
      "            \"failed\": false, \n",
      "            \"item\": [\n",
      "                \"student2\", \n",
      "                \"rhel1\", \n",
      "                \"rhel2\"\n",
      "            ], \n",
      "            \"msg\": \"student2-rhel1\"\n",
      "        }, \n",
      "        {\n",
      "            \"failed\": false, \n",
      "            \"item\": [\n",
      "                \"student2\", \n",
      "                \"rhel3\", \n",
      "                \"rhel4\"\n",
      "            ], \n",
      "            \"msg\": \"student2-rhel3\"\n",
      "        }\n",
      "    ]\n",
      "}\n"
     ]
    }
   ],
   "source": [
    "debug:\n",
    "    msg: \"{{item[0]}}-{{item[1]}}\"\n",
    "with_nested:\n",
    "    - \"{{students}}\"\n",
    "    - \"{{servers|slice(2)|list}}\""
   ]
  },
  {
   "cell_type": "code",
   "execution_count": 9,
   "metadata": {},
   "outputs": [
    {
     "name": "stdout",
     "output_type": "stream",
     "text": [
      "TASK [with_sequence -> loop] ***************************************************\n",
      "fatal: [localhost]: FAILED! => {\n",
      "    \"msg\": \"'student_total' is undefined\"\n",
      "}\n"
     ]
    }
   ],
   "source": [
    "\n",
    "      name: with_sequence -> loop\n",
    "      debug:\n",
    "        msg: \"student{{index+1}} gets RHEL server {{item}} and {{item+1}}\"\n",
    "        # msg: \"{{ 'testuser%01x' | format(item) }}\"\n",
    "      # range is exclusive of the end point\n",
    "      loop: \"{{ range(1, student_total + 1, 2)|list }}\"\n",
    "      loop_control:\n",
    "        index_var: index"
   ]
  },
  {
   "cell_type": "code",
   "execution_count": 10,
   "metadata": {},
   "outputs": [
    {
     "name": "stdout",
     "output_type": "stream",
     "text": [
      "TASK [set_fact] ****************************************************************\n",
      "ok: [localhost] => {\n",
      "    \"ansible_facts\": {\n",
      "        \"student_total\": 4\n",
      "    }\n",
      "}\n"
     ]
    }
   ],
   "source": [
    "set_fact:\n",
    "   student_total: 4"
   ]
  },
  {
   "cell_type": "code",
   "execution_count": null,
   "metadata": {},
   "outputs": [],
   "source": []
  }
 ],
 "metadata": {
  "kernelspec": {
   "display_name": "Ansible",
   "language": "ansible",
   "name": "ansible"
  },
  "language_info": {
   "codemirror_mode": "yaml",
   "file_extension": ".yml",
   "mimetype": "text/yaml",
   "name": "ansible"
  }
 },
 "nbformat": 4,
 "nbformat_minor": 2
}
